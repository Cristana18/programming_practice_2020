{
  "nbformat": 4,
  "nbformat_minor": 0,
  "metadata": {
    "colab": {
      "name": "Python 3",
      "provenance": [],
      "collapsed_sections": []
    },
    "kernelspec": {
      "name": "python3",
      "display_name": "Python 3"
    }
  },
  "cells": [
    {
      "cell_type": "markdown",
      "metadata": {
        "id": "X6rzV8aBJoCH"
      },
      "source": [
        "Упражнение 1. Нарисуйте при помощи случайных поворотов и перемещений картину броуновских движений."
      ]
    },
    {
      "cell_type": "code",
      "metadata": {
        "id": "gJkLiDu8EJ6z"
      },
      "source": [
        "import numpy as np\r\n",
        "np.random.seed(1234)\r\n",
        "\r\n",
        "def brownian_motion(N, T, h):\r\n",
        "    \"\"\"\r\n",
        "    Simulates a Brownian motion\r\n",
        "    :param int N : the number of discrete steps\r\n",
        "    :param int T: the number of continuous time steps\r\n",
        "    :param float h: the variance of the increments\r\n",
        "    \"\"\"   \r\n",
        "    dt = 1. * T/N  # the normalizing constant\r\n",
        "    random_increments = np.random.normal(0.0, 1.0 * h, N)*np.sqrt(dt)  # the epsilon values\r\n",
        "    brownian_motion = np.cumsum(random_increments)  # calculate the brownian motion\r\n",
        "    brownian_motion = np.insert(brownian_motion, 0, 0.0) # insert the initial condition\r\n",
        "    \r\n",
        "    return brownian_motion, random_increments\r\n",
        "\r\n",
        "N = 50 # the number of discrete steps\r\n",
        "T = 1 # the number of continuous time steps\r\n",
        "h = 1 # the variance of the increments\r\n",
        "dt = 1.0 * T/N  # total number of time steps\r\n",
        "\r\n",
        "# generate a brownian motion\r\n",
        "X, epsilon = brownian_motion(N, T ,h)"
      ],
      "execution_count": null,
      "outputs": []
    },
    {
      "cell_type": "markdown",
      "metadata": {
        "id": "wsBNLmBnJqxS"
      },
      "source": [
        "Упражнение 2. Воспользуйтесь списками кортежей, чтобы задать рисование Черепашкой таких цифр. Нарисуйте на экране индекс 141700"
      ]
    },
    {
      "cell_type": "code",
      "metadata": {
        "id": "uLnVRPteK_R0"
      },
      "source": [
        "from turtle import *\r\n",
        "setup(980, 400, 0, 0)\r\n",
        "screensize(950, 300)\r\n",
        "\r\n",
        "#1\r\n",
        "penup()\r\n",
        "goto(-480,0)\r\n",
        "pendown()\r\n",
        "goto(-330, 150)\r\n",
        "goto(-330, -150)\r\n",
        "\r\n",
        "#4\r\n",
        "penup()\r\n",
        "goto(-320,150)\r\n",
        "pendown()\r\n",
        "goto(-320,0)\r\n",
        "goto(-170,0)\r\n",
        "penup()\r\n",
        "goto(-170,150)\r\n",
        "pendown()\r\n",
        "goto(-170,-150)\r\n",
        "penup()\r\n",
        "#1\r\n",
        "goto(-160, 0)\r\n",
        "pendown()\r\n",
        "goto(-10,150)\r\n",
        "goto(-10,-150)\r\n",
        "penup()\r\n",
        "#7\r\n",
        "goto(0,150)\r\n",
        "pendown()\r\n",
        "goto(150,150)\r\n",
        "goto(0,0)\r\n",
        "goto(0,-150)\r\n",
        "penup()\r\n",
        "#0\r\n",
        "goto(160,-150)\r\n",
        "pendown()\r\n",
        "goto(310,-150)\r\n",
        "goto(310, 150)\r\n",
        "goto(160,150)\r\n",
        "goto(160,-150)\r\n",
        "penup()\r\n",
        "#0\r\n",
        "goto(320,-150)\r\n",
        "pendown()\r\n",
        "goto(470,-150)\r\n",
        "goto(470, 150)\r\n",
        "goto(320,150)\r\n",
        "goto(320,-150)\r\n"
      ],
      "execution_count": null,
      "outputs": []
    },
    {
      "cell_type": "markdown",
      "metadata": {
        "id": "7f4VZ-z0RHEF"
      },
      "source": [
        "Упражнение 3"
      ]
    },
    {
      "cell_type": "code",
      "metadata": {
        "id": "0Dcm7goXRIH8"
      },
      "source": [
        "from turtle import *\r\n",
        "\r\n",
        "setup(900,500,0,0)\r\n",
        "screensize(300, 150)\r\n",
        "speed(0)\r\n",
        "penup()\r\n",
        "goto(-400,-200)\r\n",
        "pendown()\r\n",
        "goto(400,-200)\r\n",
        "dot(20,('green'))\r\n",
        "penup()\r\n",
        "goto(-400,-200)\r\n",
        "pendown()\r\n",
        "\r\n",
        "\r\n",
        "\r\n",
        "import turtle as t\r\n",
        "\r\n",
        "#deloschinitos\r\n",
        "def draw(minX,maxX,step,func):\r\n",
        "    originalSpeed = t.speed()\r\n",
        "    t.speed(0)\r\n",
        "    t.up()\r\n",
        "    t.goto(minX , func(minX))\r\n",
        "\r\n",
        "    t.speed(originalSpeed)\r\n",
        "    t.down()\r\n",
        "    for x in range(minX,maxX+step, step):\r\n",
        "        t.goto(x,func(x))\r\n",
        "\r\n",
        "\r\n",
        "def poly(a,b):\r\n",
        "    def func(x):\r\n",
        "            return -a*x*x + b*x\r\n",
        "    return func\r\n",
        "\r\n",
        "draw(-200,200,1,poly(0.01,0.3))\r\n"
      ],
      "execution_count": null,
      "outputs": []
    },
    {
      "cell_type": "markdown",
      "metadata": {
        "id": "tcu21WwKTASN"
      },
      "source": [
        "Упражнение 4. При помощи конструктора turtle.Turtle() можно создать новый объект черепахи. Если поместить эти объекты в список, а потом циклически двигать каждую черепаху на нельшое смещение, возникает эффект одновременного движения:"
      ]
    },
    {
      "cell_type": "code",
      "metadata": {
        "id": "x9vqx1RGSMoI"
      },
      "source": [
        "from random import randint\r\n",
        "import turtle\r\n",
        "\r\n",
        "\r\n",
        "number_of_turtles = 25\r\n",
        "steps_of_time_number = 100\r\n",
        "\r\n",
        "\r\n",
        "pool = [turtle.Turtle(shape='turtle') for i in range(number_of_turtles)]\r\n",
        "for unit in pool:\r\n",
        "    unit.penup()\r\n",
        "    unit.speed(50)\r\n",
        "    unit.goto(randint(-200, 200), randint(-200, 200))\r\n",
        "\r\n",
        "\r\n",
        "\r\n",
        "for i in range(steps_of_time_number):\r\n",
        "    for unit in pool:\r\n",
        "        unit.forward(6)"
      ],
      "execution_count": null,
      "outputs": []
    }
  ]
}