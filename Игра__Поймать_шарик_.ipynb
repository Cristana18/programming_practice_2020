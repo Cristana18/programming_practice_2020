{
  "nbformat": 4,
  "nbformat_minor": 0,
  "metadata": {
    "colab": {
      "name": "Игра \"Поймать шарик\"",
      "provenance": [],
      "collapsed_sections": []
    },
    "kernelspec": {
      "name": "python3",
      "display_name": "Python 3"
    }
  },
  "cells": [
    {
      "cell_type": "code",
      "metadata": {
        "id": "1WwLIiK6NVP-"
      },
      "source": [
        "from tkinter import *\r\n",
        "from random import randrange as rnd, choice\r\n",
        "import time\r\n",
        "\r\n",
        "root = Tk()\r\n",
        "root.geometry('800x600')\r\n",
        "\r\n",
        "canv = Canvas(root, bg='white')\r\n",
        "canv.pack(fill=BOTH, expand=1)\r\n",
        "\r\n",
        "colors = ['red', 'orange', 'yellow', 'green', 'blue']\r\n",
        "\r\n",
        "\r\n",
        "def new_ball():\r\n",
        "    canv.delete(ALL)\r\n",
        "    x = rnd(100, 700)\r\n",
        "    y = rnd(100, 500)\r\n",
        "    r = rnd(30, 50)\r\n",
        "    canv.create_oval(x - r, y - r, x + r, y + r, fill=choice(colors), width=0)\r\n",
        "    root.after(1000, new_ball)\r\n",
        "\r\n",
        "\r\n",
        "new_ball()\r\n",
        "mainloop()\r\n",
        "from tkinter import *\r\n",
        "from random import randrange as rnd, choice\r\n",
        "import time\r\n",
        "\r\n",
        "root = Tk()\r\n",
        "root.geometry('800x600')\r\n",
        "\r\n",
        "canv = Canvas(root, bg='white')\r\n",
        "canv.pack(fill=BOTH, expand=1)\r\n",
        "\r\n",
        "colors = ['red', 'orange', 'yellow', 'green', 'blue']"
      ],
      "execution_count": null,
      "outputs": []
    }
  ]
}